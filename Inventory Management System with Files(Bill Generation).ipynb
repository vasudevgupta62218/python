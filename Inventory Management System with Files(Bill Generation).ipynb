{
 "cells": [
  {
   "cell_type": "code",
   "execution_count": 9,
   "id": "e92ef495",
   "metadata": {},
   "outputs": [],
   "source": [
    "inventory_file=open('inventory.txt','w')\n",
    "\n",
    "inventory_file.close()\n"
   ]
  },
  {
   "cell_type": "markdown",
   "id": "38c5b14e",
   "metadata": {},
   "source": [
    "1. Product ID\n",
    "2. Product Name\n",
    "3. Product Price\n",
    "4. Product Qty."
   ]
  },
  {
   "cell_type": "code",
   "execution_count": 13,
   "id": "6a248402",
   "metadata": {},
   "outputs": [
    {
     "name": "stdout",
     "output_type": "stream",
     "text": [
      "ID,Name,Price,Quantity\n",
      "1001,5 Star,5,100\n",
      "1002,Dairy Milk,5,100\n",
      "1003,Kit Kat,25,100\n",
      "1004,Milky Bar,30,100\n"
     ]
    }
   ],
   "source": [
    "with open('inventory.txt','r') as inventory_file:\n",
    "        product=inventory_file.read()\n",
    "        print(product)\n"
   ]
  },
  {
   "cell_type": "code",
   "execution_count": 14,
   "id": "bf34ab29",
   "metadata": {},
   "outputs": [
    {
     "data": {
      "text/plain": [
       "'ID,Name,Price,Quantity\\n1001,5 Star,5,100\\n1002,Dairy Milk,5,100\\n1003,Kit Kat,25,100\\n1004,Milky Bar,30,100'"
      ]
     },
     "execution_count": 14,
     "metadata": {},
     "output_type": "execute_result"
    }
   ],
   "source": [
    "product"
   ]
  },
  {
   "cell_type": "code",
   "execution_count": 15,
   "id": "c26f890e",
   "metadata": {},
   "outputs": [
    {
     "data": {
      "text/plain": [
       "['ID,Name,Price,Quantity',\n",
       " '1001,5 Star,5,100',\n",
       " '1002,Dairy Milk,5,100',\n",
       " '1003,Kit Kat,25,100',\n",
       " '1004,Milky Bar,30,100']"
      ]
     },
     "execution_count": 15,
     "metadata": {},
     "output_type": "execute_result"
    }
   ],
   "source": [
    "product_list=product.split('\\n')\n",
    "product_list\n"
   ]
  },
  {
   "cell_type": "code",
   "execution_count": 16,
   "id": "562753f1",
   "metadata": {},
   "outputs": [
    {
     "data": {
      "text/plain": [
       "4"
      ]
     },
     "execution_count": 16,
     "metadata": {},
     "output_type": "execute_result"
    }
   ],
   "source": [
    "len(product_list[1:])"
   ]
  },
  {
   "cell_type": "code",
   "execution_count": 17,
   "id": "a9b5b03b",
   "metadata": {
    "scrolled": true
   },
   "outputs": [
    {
     "name": "stdout",
     "output_type": "stream",
     "text": [
      "ID,Name,Price,Quantity\n",
      "1001,5 Star,5,100\n",
      "1002,Dairy Milk,5,100\n",
      "1003,Kit Kat,25,100\n",
      "1004,Milky Bar,30,100\n"
     ]
    }
   ],
   "source": [
    "for products in product_list:\n",
    "    print(products)         #they all are string types"
   ]
  },
  {
   "cell_type": "code",
   "execution_count": 18,
   "id": "e36d2b09",
   "metadata": {},
   "outputs": [
    {
     "name": "stdout",
     "output_type": "stream",
     "text": [
      "['ID', 'Name', 'Price', 'Quantity']\n",
      "['1001', '5 Star', '5', '100']\n",
      "['1002', 'Dairy Milk', '5', '100']\n",
      "['1003', 'Kit Kat', '25', '100']\n",
      "['1004', 'Milky Bar', '30', '100']\n"
     ]
    }
   ],
   "source": [
    "for products in product_list:\n",
    "    print(products.split(','))"
   ]
  },
  {
   "cell_type": "code",
   "execution_count": 20,
   "id": "86a71748",
   "metadata": {},
   "outputs": [
    {
     "name": "stdout",
     "output_type": "stream",
     "text": [
      "ID\n",
      "1001\n",
      "1002\n",
      "1003\n",
      "1004\n"
     ]
    }
   ],
   "source": [
    "for products in product_list:\n",
    "    print(products.split(',')[0])"
   ]
  },
  {
   "cell_type": "code",
   "execution_count": 19,
   "id": "c21eca9d",
   "metadata": {},
   "outputs": [
    {
     "name": "stdout",
     "output_type": "stream",
     "text": [
      "Enter Product Id: 1001\n",
      "1001,5 Star,5,100\n"
     ]
    }
   ],
   "source": [
    "ui_ID=input('Enter Product Id: ')   #ui=user_input\n",
    "\n",
    "for products in product_list:\n",
    "    if(products.split(',')[0]==ui_ID):\n",
    "        print(products)"
   ]
  },
  {
   "cell_type": "markdown",
   "id": "0018dd74",
   "metadata": {},
   "source": [
    "## Bill Generation"
   ]
  },
  {
   "cell_type": "code",
   "execution_count": 10,
   "id": "246f0bbc",
   "metadata": {},
   "outputs": [
    {
     "name": "stdout",
     "output_type": "stream",
     "text": [
      "Enter Product Id: 1001\n",
      "Enter the Qty: 200\n",
      "Sorry we dont have enough quantity.\n",
      "We have only  90  quantities.\n",
      "Would like to purchase it!\n",
      "Enter y/n.n\n",
      "Sorry For Inconvenience\n"
     ]
    }
   ],
   "source": [
    "#Reading the inventory\n",
    "with open('inventory.txt','r') as inventory_file:\n",
    "        product=inventory_file.read()\n",
    "        \n",
    "product_list=product.split('\\n')\n",
    "\n",
    "#Taking user input\n",
    "ui_ID=input('Enter Product Id: ')\n",
    "ui_qty=input('Enter the Qty: ')\n",
    "\n",
    "updated_product_list=[]\n",
    "\n",
    "#Going through each product detail\n",
    "for products in product_list:\n",
    "    product_info=products.split(',')\n",
    "    #Checking if product exist or not\n",
    "    if(product_info[0]==ui_ID):\n",
    "        \n",
    "        #if we having enough quantity or not\n",
    "        if(int(ui_qty)<=int(product_info[3])):\n",
    "            \n",
    "                print('-'*20)\n",
    "                print('ID: ',ui_ID)\n",
    "                print('Name: ',product_info[1])\n",
    "                print('Price: ','₹',product_info[2])\n",
    "                print('Qty: ',ui_qty)\n",
    "                print('-'*20)\n",
    "                print('Total Amount: ','₹',int(product_info[2])*int(ui_qty))\n",
    "                print('-'*30)\n",
    "                print('Thank You for Shopping With Us')\n",
    "\n",
    "#________________________________________________________________________________________________________________________\n",
    "#                                                   Updating the Inventory\n",
    "#\n",
    "#                           We are going to update the inventory.txt(product) file with the updated inventory.\n",
    "#________________________________________________________________________________________________________________________\n",
    "\n",
    "                product_info[3]=str(int(product_info[3])-int(ui_qty))\n",
    "#         print('Updated Inventory: ',product_info[3])\n",
    "#         print('Updated Inventory: ',type(product_info[3]\n",
    "\n",
    "         #if we are not having enough quantity\n",
    "        else:\n",
    "            print('Sorry we dont have enough quantity.')\n",
    "            print('We have only ',product_info[3],' quantities.')\n",
    "            print('Would like to purchase it!')\n",
    "            ch=input('Enter y/n.')\n",
    "            \n",
    "            #if we want to purchase remaining quantity\n",
    "            if(ch=='y'):\n",
    "                    print('-'*20)\n",
    "                    print('ID: ',ui_ID)\n",
    "                    print('Name: ',product_info[1])\n",
    "                    print('Price: ','₹',product_info[2])\n",
    "                    print('Qty: ',product_info[3])\n",
    "                    print('-'*20)\n",
    "                    print('Total Amount: ','₹',int(product_info[2])*int(product_info[3]))\n",
    "                    print('-'*30)\n",
    "                    print('Thank You for Shopping With Us')\n",
    "                    product_info[3]= '0'\n",
    "                    \n",
    "            #if we do not want to purchase anything        \n",
    "            else:\n",
    "                print('Sorry For Inconvenience')\n",
    "                \n",
    "    #Updating the inventory list            \n",
    "    updated_product_list.append(product_info)\n",
    "# print('-'*30)\n",
    "# print(updated_product_list)\n",
    "# print('-'*30)\n",
    "\n",
    "# Updating the inventory list as string\n",
    "lst=[]\n",
    "for i in updated_product_list:\n",
    "    prod=i[0]+','+i[1]+','+i[2]+','+i[3]+'\\n'\n",
    "    lst.append(prod)\n",
    "# print(lst)\n",
    "# print('-'*30)\n",
    "\n",
    "#Removing the last empty line from the inventory\n",
    "lst[-1]=lst[-1][:-1]\n",
    "# print(lst)\n",
    "# print('-'*30)\n",
    "\n",
    "\n",
    "#Finally Updating Inventory txt File\n",
    "updated_inventory=open('inventory.txt','w') #we've to overwrite it.\n",
    "\n",
    "for i in lst:\n",
    "    updated_inventory.write(i)\n",
    "    \n",
    "updated_inventory.close()\n"
   ]
  },
  {
   "cell_type": "code",
   "execution_count": null,
   "id": "bd091929",
   "metadata": {},
   "outputs": [],
   "source": []
  },
  {
   "cell_type": "code",
   "execution_count": 37,
   "id": "ae8a948c",
   "metadata": {},
   "outputs": [
    {
     "name": "stdout",
     "output_type": "stream",
     "text": [
      "ID,Name,Price,Quantity\n",
      "1001,5 Star,5,90\n",
      "1002,Dairy Milk,5,70\n",
      "1003,Kit Kat,25,70\n",
      "1004,Milky Bar,30,60\n"
     ]
    }
   ],
   "source": [
    "with open('inventory.txt','r') as fd:\n",
    "    data=fd.read()\n",
    "    print(data)"
   ]
  },
  {
   "cell_type": "code",
   "execution_count": 39,
   "id": "dbb0f7a6",
   "metadata": {},
   "outputs": [
    {
     "name": "stdout",
     "output_type": "stream",
     "text": [
      "I\n",
      "1\n",
      "1\n",
      "1\n",
      "1\n"
     ]
    }
   ],
   "source": [
    "fd=open('inventory.txt','r')\n",
    "for i in fd:\n",
    "    print(i[0])"
   ]
  },
  {
   "cell_type": "code",
   "execution_count": 4,
   "id": "cf14acaa",
   "metadata": {},
   "outputs": [],
   "source": [
    "fd=open('Sales Info.txt','w')\n",
    "\n",
    "fd.close()"
   ]
  },
  {
   "cell_type": "markdown",
   "id": "588beba9",
   "metadata": {},
   "source": [
    "## Generating Sales Information Text File"
   ]
  },
  {
   "cell_type": "code",
   "execution_count": 12,
   "id": "cdf39cc9",
   "metadata": {},
   "outputs": [
    {
     "name": "stdout",
     "output_type": "stream",
     "text": [
      "Enter NameDev\n",
      "Enter Phone9976354\n",
      "Enter Emaildev@gmail.com\n",
      "Enter Prod ID1004\n",
      "Enter Quantity10\n",
      "--------------------\n",
      "ID:  1004\n",
      "Name:  Milky Bar\n",
      "Price:  ₹ 30\n",
      "Qty:  10\n",
      "--------------------\n",
      "Total Amount:  ₹ 300\n",
      "------------------------------\n",
      "Thank You for Shopping With Us\n"
     ]
    }
   ],
   "source": [
    "import time\n",
    "\n",
    "with open('inventory.txt','r') as fd:\n",
    "    data=fd.read()\n",
    "\n",
    "inventory_list=data.split('\\n')\n",
    "\n",
    "ui_name=input('Enter Name')\n",
    "ui_phone=input('Enter Phone')\n",
    "ui_email=input('Enter Email')\n",
    "ui_prod_id=input('Enter Prod ID')\n",
    "ui_qty=input('Enter Quantity')\n",
    "\n",
    "\n",
    "\n",
    "updated_inventory_list=[]\n",
    "\n",
    "\n",
    "\n",
    "\n",
    "for inventory in inventory_list:\n",
    "    product_detail=inventory.split(',')\n",
    "    \n",
    "    if(ui_prod_id==product_detail[0]):\n",
    "        if(int(ui_qty)<=int(product_detail[3])):\n",
    "                print('-'*20)\n",
    "                print('ID: ',ui_prod_id)\n",
    "                print('Name: ',product_detail[1])\n",
    "                print('Price: ','₹',product_detail[2])\n",
    "                print('Qty: ',ui_qty)\n",
    "                print('-'*20)\n",
    "                print('Total Amount: ','₹',int(product_detail[2])*int(ui_qty))\n",
    "                print('-'*30)\n",
    "                print('Thank You for Shopping With Us')\n",
    "                \n",
    "                \n",
    "                sales=open('Sales Info.txt','a')\n",
    "                customer_info=ui_name+','+ui_phone+','+ui_email+','+ui_prod_id+','+product_detail[1]+','+ui_qty+','+str(int(product_detail[2])*int(ui_qty))+','+time.ctime()+'\\n'\n",
    "                sales.write(customer_info)\n",
    "                sales.close()\n",
    "                \n",
    "                product_detail[3]=str(int(product_detail[3])-int(ui_qty))\n",
    "    \n",
    "    updated_inventory_list.append(product_detail)\n",
    "    \n",
    "#___________________________________________________________________________________________________________________________\n",
    "\n",
    "\n",
    "\n",
    "lst=[]\n",
    "for product in updated_inventory_list:\n",
    "    prod=product[0]+','+product[1]+','+product[2]+','+product[3]+'\\n'\n",
    "    lst.append(prod)\n",
    "    \n",
    "lst[-1]=lst[-1][:-1]\n",
    "\n",
    "updated_inventory=open('inventory.txt','w')\n",
    "for i in lst:\n",
    "    updated_inventory.write(i)\n",
    "updated_inventory.close()\n"
   ]
  }
 ],
 "metadata": {
  "kernelspec": {
   "display_name": "Python 3 (ipykernel)",
   "language": "python",
   "name": "python3"
  },
  "language_info": {
   "codemirror_mode": {
    "name": "ipython",
    "version": 3
   },
   "file_extension": ".py",
   "mimetype": "text/x-python",
   "name": "python",
   "nbconvert_exporter": "python",
   "pygments_lexer": "ipython3",
   "version": "3.11.7"
  }
 },
 "nbformat": 4,
 "nbformat_minor": 5
}
