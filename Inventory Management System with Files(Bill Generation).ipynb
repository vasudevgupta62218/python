{
 "cells": [
  {
   "cell_type": "code",
   "execution_count": 9,
   "id": "c5dc47f3",
   "metadata": {},
   "outputs": [],
   "source": [
    "inventory_file=open('inventory.txt','w')\n",
    "\n",
    "inventory_file.close()\n"
   ]
  },
  {
   "cell_type": "markdown",
   "id": "78a6dcf1",
   "metadata": {},
   "source": [
    "1. Product ID\n",
    "2. Product Name\n",
    "3. Product Price\n",
    "4. Product Qty."
   ]
  },
  {
   "cell_type": "code",
   "execution_count": 13,
   "id": "90d5edd4",
   "metadata": {},
   "outputs": [
    {
     "name": "stdout",
     "output_type": "stream",
     "text": [
      "ID,Name,Price,Quantity\n",
      "1001,5 Star,5,100\n",
      "1002,Dairy Milk,5,100\n",
      "1003,Kit Kat,25,100\n",
      "1004,Milky Bar,30,100\n"
     ]
    }
   ],
   "source": [
    "with open('inventory.txt','r') as inventory_file:\n",
    "        product=inventory_file.read()\n",
    "        print(product)\n"
   ]
  },
  {
   "cell_type": "code",
   "execution_count": 14,
   "id": "c031be92",
   "metadata": {},
   "outputs": [
    {
     "data": {
      "text/plain": [
       "'ID,Name,Price,Quantity\\n1001,5 Star,5,100\\n1002,Dairy Milk,5,100\\n1003,Kit Kat,25,100\\n1004,Milky Bar,30,100'"
      ]
     },
     "execution_count": 14,
     "metadata": {},
     "output_type": "execute_result"
    }
   ],
   "source": [
    "product"
   ]
  },
  {
   "cell_type": "code",
   "execution_count": 15,
   "id": "b88d4bb3",
   "metadata": {},
   "outputs": [
    {
     "data": {
      "text/plain": [
       "['ID,Name,Price,Quantity',\n",
       " '1001,5 Star,5,100',\n",
       " '1002,Dairy Milk,5,100',\n",
       " '1003,Kit Kat,25,100',\n",
       " '1004,Milky Bar,30,100']"
      ]
     },
     "execution_count": 15,
     "metadata": {},
     "output_type": "execute_result"
    }
   ],
   "source": [
    "product_list=product.split('\\n')\n",
    "product_list\n"
   ]
  },
  {
   "cell_type": "code",
   "execution_count": 16,
   "id": "b9ad0f21",
   "metadata": {},
   "outputs": [
    {
     "data": {
      "text/plain": [
       "4"
      ]
     },
     "execution_count": 16,
     "metadata": {},
     "output_type": "execute_result"
    }
   ],
   "source": [
    "len(product_list[1:])"
   ]
  },
  {
   "cell_type": "code",
   "execution_count": 17,
   "id": "e900e9e5",
   "metadata": {},
   "outputs": [
    {
     "name": "stdout",
     "output_type": "stream",
     "text": [
      "ID,Name,Price,Quantity\n",
      "1001,5 Star,5,100\n",
      "1002,Dairy Milk,5,100\n",
      "1003,Kit Kat,25,100\n",
      "1004,Milky Bar,30,100\n"
     ]
    }
   ],
   "source": [
    "for products in product_list:\n",
    "    print(products)         #they all are string types"
   ]
  },
  {
   "cell_type": "code",
   "execution_count": 18,
   "id": "ece004c1",
   "metadata": {},
   "outputs": [
    {
     "name": "stdout",
     "output_type": "stream",
     "text": [
      "['ID', 'Name', 'Price', 'Quantity']\n",
      "['1001', '5 Star', '5', '100']\n",
      "['1002', 'Dairy Milk', '5', '100']\n",
      "['1003', 'Kit Kat', '25', '100']\n",
      "['1004', 'Milky Bar', '30', '100']\n"
     ]
    }
   ],
   "source": [
    "for products in product_list:\n",
    "    print(products.split(','))"
   ]
  },
  {
   "cell_type": "code",
   "execution_count": 20,
   "id": "ffa57deb",
   "metadata": {},
   "outputs": [
    {
     "name": "stdout",
     "output_type": "stream",
     "text": [
      "ID\n",
      "1001\n",
      "1002\n",
      "1003\n",
      "1004\n"
     ]
    }
   ],
   "source": [
    "for products in product_list:\n",
    "    print(products.split(',')[0])"
   ]
  },
  {
   "cell_type": "code",
   "execution_count": 19,
   "id": "03b46d10",
   "metadata": {},
   "outputs": [
    {
     "name": "stdout",
     "output_type": "stream",
     "text": [
      "Enter Product Id: 1001\n",
      "1001,5 Star,5,100\n"
     ]
    }
   ],
   "source": [
    "ui_ID=input('Enter Product Id: ')   #ui=user_input\n",
    "\n",
    "for products in product_list:\n",
    "    if(products.split(',')[0]==ui_ID):\n",
    "        print(products)"
   ]
  },
  {
   "cell_type": "markdown",
   "id": "b3ec0037",
   "metadata": {},
   "source": [
    "## Bill Generation"
   ]
  },
  {
   "cell_type": "code",
   "execution_count": 36,
   "id": "cd7f1804",
   "metadata": {},
   "outputs": [
    {
     "name": "stdout",
     "output_type": "stream",
     "text": [
      "Enter Product Id: 1004\n",
      "Enter the Qty: 40\n",
      "--------------------\n",
      "ID:  1004\n",
      "Name:  Milky Bar\n",
      "Price:  ₹ 30\n",
      "Qty:  40\n",
      "--------------------\n",
      "Total Amount:  ₹ 1200\n",
      "------------------------------\n",
      "Thank You for Shopping With Us\n"
     ]
    }
   ],
   "source": [
    "with open('inventory.txt','r') as inventory_file:\n",
    "        product=inventory_file.read()\n",
    "        \n",
    "product_list=product.split('\\n')\n",
    "\n",
    "\n",
    "ui_ID=input('Enter Product Id: ')\n",
    "ui_qty=input('Enter the Qty: ')\n",
    "\n",
    "updated_product_list=[]\n",
    "\n",
    "for products in product_list:\n",
    "    product_info=products.split(',')\n",
    "    if(product_info[0]==ui_ID):\n",
    "        print('-'*20)\n",
    "        print('ID: ',ui_ID)\n",
    "        print('Name: ',product_info[1])\n",
    "        print('Price: ','₹',product_info[2])\n",
    "        print('Qty: ',ui_qty)\n",
    "        print('-'*20)\n",
    "        print('Total Amount: ','₹',int(product_info[2])*int(ui_qty))\n",
    "        print('-'*30)\n",
    "        print('Thank You for Shopping With Us')\n",
    "\n",
    "#________________________________________________________________________________________________________________________\n",
    "#                                                   Updating the Inventory\n",
    "#\n",
    "#                           We are going to update the inventory.txt(product) file with the updated inventory.\n",
    "#________________________________________________________________________________________________________________________\n",
    "\n",
    "        product_info[3]=str(int(product_info[3])-int(ui_qty))\n",
    "#         print('Updated Inventory: ',product_info[3])\n",
    "#         print('Updated Inventory: ',type(product_info[3]))\n",
    "    updated_product_list.append(product_info)\n",
    "# print('-'*30)\n",
    "# print(updated_product_list)\n",
    "# print('-'*30)\n",
    "lst=[]\n",
    "for i in updated_product_list:\n",
    "    prod=i[0]+','+i[1]+','+i[2]+','+i[3]+'\\n'\n",
    "    lst.append(prod)\n",
    "# print(lst)\n",
    "# print('-'*30)\n",
    "lst[-1]=lst[-1][:-1]\n",
    "# print(lst)\n",
    "# print('-'*30)\n",
    "\n",
    "updated_inventory=open('inventory.txt','w') #we've to overwrite it.\n",
    "\n",
    "for i in lst:\n",
    "    updated_inventory.write(i)\n",
    "    \n",
    "updated_inventory.close()\n"
   ]
  },
  {
   "cell_type": "code",
   "execution_count": 37,
   "id": "6bed2940",
   "metadata": {},
   "outputs": [
    {
     "name": "stdout",
     "output_type": "stream",
     "text": [
      "ID,Name,Price,Quantity\n",
      "1001,5 Star,5,90\n",
      "1002,Dairy Milk,5,70\n",
      "1003,Kit Kat,25,70\n",
      "1004,Milky Bar,30,60\n"
     ]
    }
   ],
   "source": [
    "with open('inventory.txt') as fd:\n",
    "    data=fd.read()\n",
    "    print(data)"
   ]
  },
  {
   "cell_type": "code",
   "execution_count": null,
   "id": "3607a983",
   "metadata": {},
   "outputs": [],
   "source": []
  },
  {
   "cell_type": "code",
   "execution_count": null,
   "id": "74eeb411",
   "metadata": {},
   "outputs": [],
   "source": []
  }
 ],
 "metadata": {
  "kernelspec": {
   "display_name": "Python 3 (ipykernel)",
   "language": "python",
   "name": "python3"
  },
  "language_info": {
   "codemirror_mode": {
    "name": "ipython",
    "version": 3
   },
   "file_extension": ".py",
   "mimetype": "text/x-python",
   "name": "python",
   "nbconvert_exporter": "python",
   "pygments_lexer": "ipython3",
   "version": "3.11.7"
  }
 },
 "nbformat": 4,
 "nbformat_minor": 5
}
