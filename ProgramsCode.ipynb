{
 "cells": [
  {
   "cell_type": "markdown",
   "metadata": {},
   "source": []
  },
  {
   "cell_type": "code",
   "execution_count": 5,
   "metadata": {},
   "outputs": [
    {
     "name": "stdout",
     "output_type": "stream",
     "text": [
      "Hello, Vasudev\n"
     ]
    }
   ],
   "source": [
    "#1a. Write a program to enter name and display as\n",
    "# “Hello, Name”.\n",
    "\n",
    "name=input(\"Enter your name: \")\n",
    "name=name.capitalize()\n",
    "print(f\"Hello, {name}\")"
   ]
  },
  {
   "cell_type": "code",
   "execution_count": 9,
   "metadata": {},
   "outputs": [
    {
     "name": "stdout",
     "output_type": "stream",
     "text": [
      "Your system generated Hashtag is: SOAMYA.\n"
     ]
    }
   ],
   "source": [
    "#1b. WAP to create hashtag after taking two input strings from user.\n",
    "first=input(\"Enter first string: \")\n",
    "second=input(\"Enter second string: \")\n",
    "hashtag=first[:3].upper()+second[-3:].upper()\n",
    "print(f\"Your system generated Hashtag is: {hashtag}.\")"
   ]
  },
  {
   "cell_type": "code",
   "execution_count": 18,
   "metadata": {},
   "outputs": [
    {
     "name": "stdout",
     "output_type": "stream",
     "text": [
      "Equation has conjugate complex roots: -1.50 + 1.32 i and -1.50 - 1.32 i.\n"
     ]
    }
   ],
   "source": [
    "# 2. WAP to compute the roots of a quadratic equation.\n",
    "a=int(input(\"Enter the coefficient of x\\N{superscript two}: \"))\n",
    "b=int(input(\"Enter the coefficient of x: \"))\n",
    "c=int(input(\"Enter the constant: \"))\n",
    "d=b**2 -(4*a*c)\n",
    "if d==0:\n",
    "    x=(-b/(2*a))\n",
    "    print(f\"Equation has two real and equal roots: {x:.2f}\")\n",
    "elif d>0:\n",
    "    x1=((-b+(d**0.5))/(2*a))\n",
    "    x2=((-b-(d**0.5))/(2*a))\n",
    "    print(f\"Equation has two real and unequal roots: {x1:.2f} and {x2:.2f}\")\n",
    "else:\n",
    "    img=(((4*a*c)-(b**2))**0.5)/(2*a)\n",
    "    print(f\"Equation has conjugate complex roots: {-b/(2*a):.2f} + {img:.2f} i and {-b/(2*a):.2f} - {img:.2f} i.\")"
   ]
  },
  {
   "cell_type": "code",
   "execution_count": 28,
   "metadata": {},
   "outputs": [
    {
     "name": "stdout",
     "output_type": "stream",
     "text": [
      "Machine chose scissor.\n",
      "User chose stone.\n",
      "User Wins😁\n"
     ]
    }
   ],
   "source": [
    "# 3. WAP to play Stone, Paper, Scissors with Computer.\n",
    "import random\n",
    "user=input(\"Type your option(from 'stone','paper','scissor'): \")\n",
    "machine=random.choice(['stone','paper','scissor'])\n",
    "print(f\"Machine chose {machine}.\")\n",
    "print(f\"User chose {user}.\")\n",
    "if(user=='stone'):\n",
    "    if(machine==user):\n",
    "        print(\"Draws\\N{grinning face}\")\n",
    "    elif(machine=='scissor'):\n",
    "        print(\"User Wins\\N{grinning face with smiling eyes}\")\n",
    "    else:\n",
    "        print(\"Machine Wins\\N{disappointed face}\")\n",
    "elif(user=='scissor'):\n",
    "    if(machine==user):\n",
    "        print(\"Draws\\N{grinning face}\")\n",
    "    elif(machine=='paper'):\n",
    "        print(\"User Wins\\N{grinning face with smiling eyes}\")\n",
    "    else:\n",
    "        print(\"Machine Wins\\N{disappointed face}\")\n",
    "elif(user==\"paper\"):\n",
    "    if(machine==user):\n",
    "        print(\"Draws\\N{grinning face}\")\n",
    "    elif(machine=='scissor'):\n",
    "        print(\"Machine Wins\\N{disappointed face}\")\n",
    "    else:\n",
    "        print(\"User Wins\\N{grinning face with smiling eyes}\")"
   ]
  },
  {
   "cell_type": "code",
   "execution_count": 32,
   "metadata": {},
   "outputs": [
    {
     "name": "stdout",
     "output_type": "stream",
     "text": [
      "Your BMI score is 26.23. \n",
      "You are Overweight.\n"
     ]
    }
   ],
   "source": [
    "# 4. Write a program for BMI Calculator with Categorization of underweight, normal weight and overweight.\n",
    "w=float(input(\"Enter your Weight in Kg: \"))\n",
    "h=float(input(\"Enter your Height in metre: \"))\n",
    "bmi=w/(h**2)\n",
    "print(f\"Your BMI score is {bmi:.2f}. \")\n",
    "if bmi<=18.4:\n",
    "    print(\"You are Underweight.\")\n",
    "elif 18.4<bmi and bmi<=25:\n",
    "    print(\"You are Healthy.\")\n",
    "else:\n",
    "    print(\"You are Overweight.\")\n"
   ]
  },
  {
   "cell_type": "code",
   "execution_count": 36,
   "metadata": {},
   "outputs": [
    {
     "name": "stdout",
     "output_type": "stream",
     "text": [
      "Result: 2.00\n",
      "Thank You\n"
     ]
    }
   ],
   "source": [
    "# 5. WAP to demonstrate exception handling of Zero Division Error.\n",
    "a=int(input(\"Enter Numerator: \"))\n",
    "b=int(input(\"Enter Denominator: \"))\n",
    "try:\n",
    "    division=(a/b)\n",
    "except ZeroDivisionError:\n",
    "    print(\"Denominator must be Non-Negative.\")\n",
    "    print(\"Run Again\")\n",
    "else:\n",
    "    print(f\"Result: {division:.2f}\")\n",
    "finally:\n",
    "    print(\"Thank You\")"
   ]
  },
  {
   "cell_type": "code",
   "execution_count": 41,
   "metadata": {},
   "outputs": [
    {
     "name": "stdout",
     "output_type": "stream",
     "text": [
      "Lenght: 10unit\n",
      "Breadth: 10unit\n",
      "Height: 10unit\n",
      "Volume of Cuboid is 1000unit³\n"
     ]
    }
   ],
   "source": [
    "# 6. WAP to demonstrate OOPs using user defined Cuboid Class.\n",
    "class cuboid:\n",
    "    def __init__(self,length,breadth,height):\n",
    "        self.l=length\n",
    "        self.b=breadth\n",
    "        self.h=height\n",
    "    def volume(self):\n",
    "        self.v=(self.l*self.b*self.h)\n",
    "        print(f\"Volume of Cuboid is {self.v}unit\\N{superscript three}\")\n",
    "    def display(self):\n",
    "        print(f\"Lenght: {self.l}unit\\nBreadth: {self.b}unit\\nHeight: {self.h}unit\")\n",
    "c=cuboid(10,10,10)\n",
    "c.display()\n",
    "c.volume()"
   ]
  },
  {
   "cell_type": "code",
   "execution_count": 59,
   "metadata": {},
   "outputs": [
    {
     "name": "stdout",
     "output_type": "stream",
     "text": [
      "Area of Rectangle is:  4 unit²\n",
      "__________________________________________________\n",
      "Lenght: 3unit\n",
      "Breadth: 2unit\n",
      "Height: 3unit\n",
      "Volume of Cuboid is:  18 unit³\n"
     ]
    }
   ],
   "source": [
    "# 7. WAP to demonstrate inheritance in OOPs using user defined Rectangle and Cuboid Class.\n",
    "class rectangle:\n",
    "    def __init__(self,length,breadth):\n",
    "        self.l=length\n",
    "        self.b=breadth\n",
    "    def area(self):\n",
    "        self.a=self.l*self.b\n",
    "        return self.a\n",
    "    def display(self):\n",
    "        print(f\"Lenght: {self.l}unit\\nBreadth: {self.b}unit\")\n",
    "class cuboid(rectangle):\n",
    "    def __init__(self,length,breadth,height):\n",
    "        super().__init__(length,breadth)\n",
    "        self.h=height\n",
    "    def volume(self):\n",
    "        self.v=super().area()*self.h\n",
    "        return self.v\n",
    "    def display(self):\n",
    "        print(f\"Lenght: {self.l}unit\\nBreadth: {self.b}unit\\nHeight: {self.h}unit\")\n",
    "r=rectangle(2,2)\n",
    "print(\"Area of Rectangle is: \",r.area(),\"unit\\N{superscript two}\")\n",
    "print(\"_\"*50)\n",
    "c=cuboid(3,2,3)\n",
    "c.display()\n",
    "print(\"Volume of Cuboid is: \",c.volume(),\"unit\\N{superscript three}\")"
   ]
  },
  {
   "cell_type": "code",
   "execution_count": 62,
   "metadata": {},
   "outputs": [
    {
     "name": "stdout",
     "output_type": "stream",
     "text": [
      "Name of the Employee: A and Employee ID is 101.\n",
      "Department Name:  Data\n",
      "Floor Number:  2\n"
     ]
    }
   ],
   "source": [
    "# 8. Write a Program to implement Inheritance. Create a class Employee inherit two classes Manager from Employee\n",
    "#and Clerk from Manager.\n",
    "class employee:\n",
    "    def __init__(self,name,eid):\n",
    "        self.name=name\n",
    "        self.eid=eid\n",
    "    def display(self):\n",
    "        print(f\"Name of the Employee: {self.name} and Employee ID is {self.eid}.\")\n",
    "class manager(employee):\n",
    "    def __init__(self, name, eid,department):\n",
    "        super().__init__(name,eid)\n",
    "        self.department=department\n",
    "    def display(self):\n",
    "        super().display()\n",
    "        print(\"Department Name: \",self.department)\n",
    "class clerk(manager):\n",
    "    def __init__(self, name, eid,department,floor):\n",
    "        super().__init__(name, eid,department)\n",
    "        self.floor=floor\n",
    "    def display(self):\n",
    "        super().display()\n",
    "        print(\"Floor Number: \",self.floor)\n",
    "c=clerk(\"A\",\"101\",\"Data\",\"2\")\n",
    "c.display()\n"
   ]
  },
  {
   "cell_type": "code",
   "execution_count": 1,
   "metadata": {},
   "outputs": [
    {
     "name": "stdout",
     "output_type": "stream",
     "text": [
      "Employee ID:  101\n",
      "Employee Name:  A\n",
      "Employee Designation:  DA\n",
      "Employee Salary:  10\n",
      "No. of Employees : 1\n"
     ]
    }
   ],
   "source": [
    "# 9. WAP to demonstrate the demarcation of class variable and instance variable in OOP using Employee Class.\n",
    "class Employee:\n",
    "    id=100\n",
    "    t_count=0\n",
    "    def __init__(self,name,designation,salary):\n",
    "        self.eid=Employee.id+1\n",
    "        self.name=name\n",
    "        self.designation=designation\n",
    "        self.salary=salary\n",
    "        Employee.id+=1\n",
    "        Employee.t_count+=1\n",
    "    def display(self):\n",
    "        print(\"Employee ID: \",self.eid)\n",
    "        print(\"Employee Name: \",self.name)\n",
    "        print(\"Employee Designation: \",self.designation)\n",
    "        print(\"Employee Salary: \",self.salary)\n",
    "\n",
    "    # @staticmethod\n",
    "    def count():\n",
    "        print(\"No. of Employees :\",Employee.t_count)\n",
    "e=Employee(\"A\",\"DA\",10)\n",
    "e.display()\n",
    "Employee.count()"
   ]
  },
  {
   "cell_type": "code",
   "execution_count": 3,
   "metadata": {},
   "outputs": [
    {
     "name": "stdout",
     "output_type": "stream",
     "text": [
      "EOQ1: 200.00\n",
      "EOQ2: 489.90\n",
      "EOQ3: 282.84\n",
      "EOQ4: 692.82\n"
     ]
    }
   ],
   "source": [
    "# 10. Write a Program to determine EOQ using various inventory models.\n",
    "class EOQ:\n",
    "    def __init__(self,lamda,ordercost,inventorycost,production=0,shortagecost=0):\n",
    "        self.lamda=lamda\n",
    "        self.ordercost=ordercost\n",
    "        self.inventorycost=inventorycost\n",
    "        self.production=production\n",
    "        self.shortagecost=shortagecost\n",
    "    def EOQ1(self):\n",
    "        self.q1=(2*self.ordercost*self.lamda/self.inventorycost)**0.5\n",
    "        print(f\"EOQ1: {self.q1:.2f}\")\n",
    "\n",
    "    def EOQ2(self):\n",
    "        self.q2=((2*self.ordercost*self.lamda/self.inventorycost)**0.5)\n",
    "                 *((self.production/(self.production-self.lamda))**0.5)\n",
    "        print(f\"EOQ2: {self.q2:.2f}\")\n",
    "\n",
    "    def EOQ3(self):\n",
    "        self.q3=((2*self.ordercost*self.lamda/self.inventorycost)**0.5)\n",
    "                *(((self.shortagecost+self.inventorycost)/self.shortagecost)**0.5)\n",
    "        print(f\"EOQ3: {self.q3:.2f}\")\n",
    "\n",
    "    def EOQ4(self):\n",
    "        self.q4=((2*self.ordercost*self.lamda/self.inventorycost)**0.5)\n",
    "                *((self.production/(self.production-self.lamda))**0.5)\n",
    "                *(((self.shortagecost+self.inventorycost)/self.shortagecost)**0.5)\n",
    "        print(f\"EOQ4: {self.q4:.2f}\")\n",
    "\n",
    "e= EOQ(lamda=10000,ordercost=4,inventorycost=2,production=12000,shortagecost=2)\n",
    "\n",
    "e.EOQ1()\n",
    "e.EOQ2()\n",
    "e.EOQ3()\n",
    "e.EOQ4()\n"
   ]
  },
  {
   "cell_type": "code",
   "execution_count": 1,
   "metadata": {},
   "outputs": [
    {
     "name": "stdout",
     "output_type": "stream",
     "text": [
      "MM1\n",
      "Expected No. Of Customers in the system: 2.00\n",
      "Expected No. Of Customers in the queue: 1.33\n",
      "Expected Time Spent in the system: 0.25\n",
      "Expected Time Spent in the queue: 0.17\n",
      "Expected No. of Person waiting when there is atleast one person is waiting: 3.00\n",
      "__________________________________________________\n",
      "MM1K\n",
      "Expected No. Of Customers in the system: 4.10\n",
      "Expected No. Of Customers in the queue: 3.11\n",
      "Expected Time Spent in the system: 1.39\n",
      "Expected Time Spent in the queue: 1.05\n",
      "__________________________________________________\n",
      "MMC\n",
      "Expected No. Of Customers in the system: 2.89\n",
      "Expected No. Of Customers in the queue: 0.89\n",
      "Expected Time Spent in the system: 0.48\n",
      "Expected Time Spent in the queue: 0.15\n"
     ]
    }
   ],
   "source": [
    "# 11. Write a Program to determine different characteristics using various Queuing models.\n",
    "import math\n",
    "class queuing_models:\n",
    "    def __init__(self,lamda,mu,servers=1,systemcapacity=float('inf')):\n",
    "        self.lamda=lamda\n",
    "        self.mu=mu\n",
    "        self.c=servers\n",
    "        self.rho=self.lamda/self.mu\n",
    "        self.k=systemcapacity\n",
    "    def mm1(self):\n",
    "        self.L=self.rho/(1-self.rho)\n",
    "        self.Lq=self.L-self.rho\n",
    "        self.W=self.L/self.lamda\n",
    "        self.Wq=self.Lq/self.lamda\n",
    "        self.Lq_dash=1/(1-self.rho)\n",
    "        print(f\"Expected No. Of Customers in the system: {self.L:.2f}\")\n",
    "        print(f\"Expected No. Of Customers in the queue: {self.Lq:.2f}\")\n",
    "        print(f\"Expected Time Spent in the system: {self.W:.2f}\")\n",
    "        print(f\"Expected Time Spent in the queue: {self.Wq:.2f}\")\n",
    "        print(f\"Expected No. of Person waiting when there is atleast one person is waiting: {self.Lq_dash:.2f}\")\n",
    "    def mm1k(self):\n",
    "        if self.rho==1:\n",
    "            self.Pn=1/(self.k+1)\n",
    "            self.L=self.k/2\n",
    "            self.Lq=(self.k*(self.k-1))/(2*(self.k+1))\n",
    "            self.lamda_eff=self.lamda*(1-self.Pn)\n",
    "            self.W=self.L/self.lamda_eff\n",
    "            self.Wq=self.Lq/self.lamda_eff\n",
    "            print(f\"Expected No. Of Customers in the system: {self.L:.2f}\")\n",
    "            print(f\"Expected No. Of Customers in the queue: {self.Lq:.2f}\")\n",
    "            print(f\"Expected Time Spent in the system: {self.W:.2f}\")\n",
    "            print(f\"Expected Time Spent in the queue: {self.Wq:.2f}\")\n",
    "        else:\n",
    "            self.Pn=((1-self.rho)/(1-(self.rho)**(self.k+1)))*self.rho**self.k\n",
    "            self.Lq=(self.rho/(1-self.rho))-(self.rho*((self.k*(self.rho**self.k))+1))/(1-(self.rho**(self.k+1)))\n",
    "            self.lamda_eff=self.lamda*(1-self.Pn)\n",
    "            self.L=self.Lq+(self.lamda_eff/self.mu)\n",
    "            self.W=self.L/self.lamda_eff\n",
    "            self.Wq=self.Lq/self.lamda_eff\n",
    "            print(f\"Expected No. Of Customers in the system: {self.L:.2f}\")\n",
    "            print(f\"Expected No. Of Customers in the queue: {self.Lq:.2f}\")\n",
    "            print(f\"Expected Time Spent in the system: {self.W:.2f}\")\n",
    "            print(f\"Expected Time Spent in the queue: {self.Wq:.2f}\")\n",
    "    def mmc(self):\n",
    "        self.r=self.lamda/self.mu\n",
    "        self.rho=self.lamda/(self.c*self.mu)\n",
    "        self.Po=((self.r**self.c)/(math.factorial(self.c)*(1-self.rho)) + \n",
    "                 sum((math.pow(self.r,n))/math.factorial(n) for n in range(self.c)))**(-1)\n",
    "        self.Lq=math.pow(self.r,self.c)*self.Po*self.rho/(math.factorial(self.c)*math.pow((1-self.rho),2))\n",
    "        self.L=self.Lq+self.r\n",
    "        self.W=self.L/self.lamda\n",
    "        self.Wq=self.Lq/self.lamda\n",
    "        print(f\"Expected No. Of Customers in the system: {self.L:.2f}\")\n",
    "        print(f\"Expected No. Of Customers in the queue: {self.Lq:.2f}\")\n",
    "        print(f\"Expected Time Spent in the system: {self.W:.2f}\")\n",
    "        print(f\"Expected Time Spent in the queue: {self.Wq:.2f}\")\n",
    "q1=queuing_models(8,12)\n",
    "print(\"MM1\")\n",
    "q1.mm1()\n",
    "print(\"_\"*50)\n",
    "print(\"MM1K\")\n",
    "q2=queuing_models(6,3,1,5)\n",
    "q2.mm1k()\n",
    "print(\"_\"*50)\n",
    "print(\"MMC\")\n",
    "q3=queuing_models(6,3,3)\n",
    "q3.mmc()\n"
   ]
  },
  {
   "cell_type": "code",
   "execution_count": 2,
   "metadata": {},
   "outputs": [],
   "source": [
    "import numpy as np\n",
    "import pandas as pd\n",
    "import matplotlib.pyplot as plt"
   ]
  },
  {
   "cell_type": "code",
   "execution_count": 30,
   "metadata": {},
   "outputs": [
    {
     "name": "stderr",
     "output_type": "stream",
     "text": [
      "No artists with labels found to put in legend.  Note that artists whose label start with an underscore are ignored when legend() is called with no argument.\n"
     ]
    },
    {
     "data": {
      "image/png": "[encoded data removed]",
      "text/plain": [
       "<Figure size 640x480 with 1 Axes>"
      ]
     },
     "metadata": {},
     "output_type": "display_data"
    }
   ],
   "source": [
    "# 12.WAP to plot a graph for function (y=X2).\n",
    "x=np.arange(-20,21)\n",
    "y=np.power(x,2)\n",
    "plt.plot(x,y,color=\"red\",lw=2)\n",
    "plt.xlabel(\"X\")\n",
    "plt.ylabel(\"Y=X\\N{superscript two}\")\n",
    "plt.legend()\n",
    "plt.title(\"Graph of Y=X\\N{superscript two}\")\n",
    "plt.show()"
   ]
  },
  {
   "cell_type": "code",
   "execution_count": null,
   "metadata": {},
   "outputs": [
    {
     "data": {
      "image/png": "[encoded data removed]",
      "text/plain": [
       "<Figure size 800x600 with 1 Axes>"
      ]
     },
     "metadata": {},
     "output_type": "display_data"
    }
   ],
   "source": [
    "#13.WAP to fit poisson distribution on a given data.\n",
    "# x       0   1   2   3   4   5   6   7   8\n",
    "# y      271  30  72  60  25  16  29  30  15\n",
    "\n",
    "from scipy.stats import poisson\n",
    "x=np.array([0,1,2,3,4,5,6,7,8])\n",
    "y=np.array([271,30,72,60,25,16,29,30,15])\n",
    "lamda=np.sum(x*y)/y.sum()\n",
    "probability=poisson.pmf(x,mu=lamda)\n",
    "y_expected=y.sum()*probability\n",
    "\n",
    "plt.figure(figsize=(8,6))\n",
    "plt.bar(x,y,width=0.4,label=\"Observed\",color=\"blue\",alpha=0.7,edgecolor=\"black\")\n",
    "plt.bar(x+0.4,y_expected,width=0.4,label=\"Expected\",color=\"yellow\",alpha=0.8,edgecolor=\"black\")\n",
    "plt.xlabel(\"x\")\n",
    "plt.ylabel(\"Frequecy\")\n",
    "plt.legend()\n",
    "plt.title(f\"Fitting Poison Distribution(lamda={np.round(lamda,2)})\")\n",
    "plt.grid(True,'both',lw=0.2)\n",
    "plt.show()"
   ]
  },
  {
   "cell_type": "code",
   "execution_count": 57,
   "metadata": {},
   "outputs": [
    {
     "name": "stdout",
     "output_type": "stream",
     "text": [
      "List 1:  [1, 2, 3, 4, 5]\n",
      "List 2:  [3, 6, 7, 9, 11]\n",
      "User Defined Function:  0.9904434667711052\n",
      "InBuilt Function 1:     0.9904434667711051\n",
      "InBuilt Function 2:     0.9904434667711052\n"
     ]
    }
   ],
   "source": [
    "# 14.Write a python function that calculates the pearson correlation cofficient between two lists of numbers.\n",
    "\n",
    "# Step 1 ] Taking Input from the user\n",
    "x=[]\n",
    "n_x=int(input(\"Enter no. of elements in x\"))\n",
    "for i in range(0,n_x):\n",
    "    ele=int(input(\"Enter element\"))\n",
    "    x.append(ele)\n",
    "\n",
    "\n",
    "y=[]\n",
    "n_y=int(input(\"Enter no. of elements in y\"))\n",
    "for i in range(0,n_y):\n",
    "    ele=int(input(\"Enter element\"))\n",
    "    y.append(ele)\n",
    "\n",
    "\n",
    "# Step 2] Defining Formula\n",
    "\n",
    "def pearson_corr_coeff(x,y):\n",
    "    x_mean=np.sum(x)/len(x)\n",
    "    y_mean=np.sum(y)/len(y)\n",
    "    numerator=np.sum((x-x_mean)*(y-y_mean))\n",
    "    denominator=((np.sum((x-x_mean)**2))*(np.sum((y-y_mean)**2)))**0.5\n",
    "    result=numerator/denominator\n",
    "    return result\n",
    "\n",
    "print(\"List 1: \",x)\n",
    "print(\"List 2: \",y)\n",
    "\n",
    "# Step 3] Calling Function\n",
    "print(\"User Defined Function: \",pearson_corr_coeff(x,y))\n",
    "\n",
    "# Step 4] Using Inbuilt function\n",
    "print(\"InBuilt Function 1:    \",np.corrcoef(x,y)[0,1])\n",
    "\n",
    "from scipy.stats import pearsonr\n",
    "print(\"InBuilt Function 2:    \",pearsonr(x,y)[0])\n",
    "\n"
   ]
  },
  {
   "cell_type": "code",
   "execution_count": 11,
   "metadata": {},
   "outputs": [
    {
     "name": "stdout",
     "output_type": "stream",
     "text": [
      "Spearman Correlation Coefficient:  0.9166666666666666\n"
     ]
    },
    {
     "data": {
      "text/html": [
       "<div>\n",
       "<style scoped>\n",
       "    .dataframe tbody tr th:only-of-type {\n",
       "        vertical-align: middle;\n",
       "    }\n",
       "\n",
       "    .dataframe tbody tr th {\n",
       "        vertical-align: top;\n",
       "    }\n",
       "\n",
       "    .dataframe thead th {\n",
       "        text-align: right;\n",
       "    }\n",
       "</style>\n",
       "<table border=\"1\" class=\"dataframe\">\n",
       "  <thead>\n",
       "    <tr style=\"text-align: right;\">\n",
       "      <th></th>\n",
       "      <th>x</th>\n",
       "      <th>y</th>\n",
       "      <th>rank_x</th>\n",
       "      <th>rank_y</th>\n",
       "      <th>difference_square</th>\n",
       "    </tr>\n",
       "  </thead>\n",
       "  <tbody>\n",
       "    <tr>\n",
       "      <th>0</th>\n",
       "      <td>12</td>\n",
       "      <td>10</td>\n",
       "      <td>2.0</td>\n",
       "      <td>1.0</td>\n",
       "      <td>1.0</td>\n",
       "    </tr>\n",
       "    <tr>\n",
       "      <th>1</th>\n",
       "      <td>21</td>\n",
       "      <td>20</td>\n",
       "      <td>4.0</td>\n",
       "      <td>2.0</td>\n",
       "      <td>4.0</td>\n",
       "    </tr>\n",
       "    <tr>\n",
       "      <th>2</th>\n",
       "      <td>3</td>\n",
       "      <td>30</td>\n",
       "      <td>1.0</td>\n",
       "      <td>3.0</td>\n",
       "      <td>4.0</td>\n",
       "    </tr>\n",
       "    <tr>\n",
       "      <th>3</th>\n",
       "      <td>14</td>\n",
       "      <td>40</td>\n",
       "      <td>3.0</td>\n",
       "      <td>4.0</td>\n",
       "      <td>1.0</td>\n",
       "    </tr>\n",
       "    <tr>\n",
       "      <th>4</th>\n",
       "      <td>25</td>\n",
       "      <td>50</td>\n",
       "      <td>5.0</td>\n",
       "      <td>5.0</td>\n",
       "      <td>0.0</td>\n",
       "    </tr>\n",
       "  </tbody>\n",
       "</table>\n",
       "</div>"
      ],
      "text/plain": [
       "    x   y  rank_x  rank_y  difference_square\n",
       "0  12  10     2.0     1.0                1.0\n",
       "1  21  20     4.0     2.0                4.0\n",
       "2   3  30     1.0     3.0                4.0\n",
       "3  14  40     3.0     4.0                1.0\n",
       "4  25  50     5.0     5.0                0.0"
      ]
     },
     "execution_count": 11,
     "metadata": {},
     "output_type": "execute_result"
    }
   ],
   "source": [
    "# 15. Write a python function that calculates Spearman correlation cofficient.\n",
    "df=pd.DataFrame({\"x\":[12,21,3,14,25],\"y\":[10,20,30,40,50]})\n",
    "df[\"rank_x\"]=df[\"x\"].rank(axis=0,method=\"dense\")\n",
    "df[\"rank_y\"]=df[\"y\"].rank(axis=0,method=\"dense\")\n",
    "df[\"difference_square\"]=(df[\"rank_x\"]-df[\"rank_y\"])**2\n",
    "n=df[\"x\"].size\n",
    "numerator=df[\"difference_square\"].sum()\n",
    "denominator=n*((n**2)-1)\n",
    "spearman_corr_coeff=1-(numerator/denominator)\n",
    "print(\"Spearman Correlation Coefficient: \",spearman_corr_coeff)\n",
    "df\n"
   ]
  },
  {
   "cell_type": "code",
   "execution_count": 43,
   "metadata": {},
   "outputs": [
    {
     "data": {
      "image/png": "[encoded data removed]",
      "text/plain": [
       "<Figure size 1000x600 with 1 Axes>"
      ]
     },
     "metadata": {},
     "output_type": "display_data"
    }
   ],
   "source": [
    "# 16. Using matplotlib plot histogram of list of numbers.\n",
    "np.random.seed(40)\n",
    "list1=np.random.randint(0,40,200)\n",
    "plt.figure(figsize=(10,6))\n",
    "plt.hist(list1,bins=20,edgecolor=\"black\",color=\"skyblue\",alpha=1)\n",
    "plt.xlabel(\"list of numbers\",fontsize=12)\n",
    "plt.ylabel(\"Frequecy\",fontsize=12)\n",
    "plt.title(\"Histogram\",fontsize=12)\n",
    "plt.tick_params(axis=\"both\",which=\"major\",labelsize=12,color=\"black\")\n",
    "plt.show()"
   ]
  },
  {
   "cell_type": "code",
   "execution_count": 60,
   "metadata": {},
   "outputs": [
    {
     "name": "stdout",
     "output_type": "stream",
     "text": [
      "List of Numbers:  [1, 2, 3, 4, 5]\n",
      "Z-Score:  [-1.414, -0.707, 0.0, 0.707, 1.414]\n"
     ]
    }
   ],
   "source": [
    "# 17. Write a python function that calculates the Z-score for the lists of numbers.\n",
    "\n",
    "def z_score(x):\n",
    "    mu=np.mean(x)\n",
    "    sigma=np.std(x)\n",
    "    z=(x-mu)/sigma\n",
    "    return list(np.round(z,3))\n",
    "\n",
    "\n",
    "x=[]\n",
    "n=int(input(\"Enter the number of elements in list: \"))\n",
    "for i in range(0,n):\n",
    "    ele=int(input(\"Enter element: \"))\n",
    "    x.append(ele)\n",
    "\n",
    "\n",
    "print(\"List of Numbers: \",x)\n",
    "print(\"Z-Score: \",z_score(x))"
   ]
  },
  {
   "cell_type": "code",
   "execution_count": null,
   "metadata": {},
   "outputs": [
    {
     "name": "stdout",
     "output_type": "stream",
     "text": [
      "_____________________________________Using User-defined Function________________________________________\n",
      "test statistic:  -2.007\n",
      "p-value:  0.032\n",
      "We do not have sufficient reason to reject Ho because of test statistic.\n",
      "We do not have sufficient reason to reject Ho because of p-value.\n",
      "__________________________________________Using Inbuilt function________________________________________\n",
      "test statistic:  -2.007\n",
      "p-value:  0.032\n"
     ]
    }
   ],
   "source": [
    "# 18. WAP to test the significance of two sample means.\n",
    "\n",
    "#                Ho : There is no significance difference between two sample means.\n",
    "#                            Mean of Sample 1 = Mean of Sample 2\n",
    "#                H1 : There is significance difference between two sample means.\n",
    "#                            Mean of Sample 1 != Mean of Sample 2\n",
    "#      Checking at 5% level of significance.\n",
    "\n",
    "\n",
    "from scipy.stats import t\n",
    "\n",
    "print(\"_____________________________________Using User-defined Function________________________________________\")\n",
    "\n",
    "def two_sample_ttest(sample1,sample2):\n",
    "    n1=len(sample1)\n",
    "    n2=len(sample2)\n",
    "\n",
    "    xbar1=np.mean(sample1)\n",
    "    xbar2=np.mean(sample2)\n",
    "\n",
    "    v1=np.var(sample1,ddof=1)\n",
    "    v2=np.var(sample2,ddof=1)\n",
    "\n",
    "    pooled_var=((n1-1)*v1+(n2-1)*v2)/(n1+n2-2)\n",
    "    pooled_std=pooled_var**0.5\n",
    "\n",
    "    ts=(xbar1-xbar2)/(pooled_std*np.sqrt((1/n1)+(1/n2)))\n",
    "\n",
    "    p_val=t.cdf(ts,n1+n2-2)\n",
    "    left_wall=t.ppf(0.025,n1+n1-2)\n",
    "    right_wall=t.ppf(0.975,n1+n1-2)\n",
    "\n",
    "    print(\"test statistic: \",round(ts,3))\n",
    "    print(\"p-value: \",round(p_val,3))\n",
    "\n",
    "    if left_wall<ts and ts<right_wall:\n",
    "        print(\"We do not have sufficient reason to reject Ho because of test statistic.\")\n",
    "    else:\n",
    "        print(\"We have sufficient reason to reject Ho because of test statistic.\")\n",
    "\n",
    "    if p_val<0.025 or p_val>97.5:\n",
    "        print(\"We have sufficient reason to reject Ho because of p-value.\")\n",
    "    else:\n",
    "        print(\"We do not have sufficient reason to reject Ho because of p-value.\")\n",
    "\n",
    "    return\n",
    "\n",
    "\n",
    "\n",
    "sample1=[27,32.2,30.4,28,26.5,25.5,29.6,27.2]\n",
    "sample2=[31.4,29.9,33.2,34.4,32,28.7,26.1,30.3]\n",
    "\n",
    "two_sample_ttest(sample1,sample2)\n",
    "\n",
    "\n",
    "print(\"__________________________________________Using Inbuilt function________________________________________\")\n",
    "\n",
    "from scipy.stats import ttest_ind\n",
    "\n",
    "ts,p_val=ttest_ind(sample1,sample2)\n",
    "print(\"test statistic: \",round(ts,3))\n",
    "print(\"p-value: \",round(p_val/2,3))\n",
    "\n",
    "\n"
   ]
  },
  {
   "cell_type": "markdown",
   "metadata": {},
   "source": [
    "### 19. WAP to test the goodness of fit of a given dataset on binomial distribution.\n",
    "\n",
    "\n",
    "A Survey of 800 families with 4 children revealed the following distribution.                                                    \n",
    "                   X: No. of Boys:         0    1    2    3    4                                                                              \n",
    "                     frequency:                32   178  290  236  64  \n",
    " Is the result consistent with the hypothesis that Male & Female births are equally probable at 95% confidence level.  \n",
    " \n",
    "- Here we have to check for the hypothesis that X ~ Binomial distribution or not with probability=1/2."
   ]
  },
  {
   "cell_type": "code",
   "execution_count": null,
   "metadata": {},
   "outputs": [
    {
     "name": "stdout",
     "output_type": "stream",
     "text": [
      "test statistic:  19.633\n",
      "Chi value at 5% level of significance:  9.488\n",
      "p-value:  0.001\n",
      "X do not follows Binomial Distribution.\n",
      "__________________Using inbuilt function____________________\n",
      "test statistic:  19.633\n",
      "p-value:  0.001\n"
     ]
    }
   ],
   "source": [
    "from scipy.stats import chisquare,binom,chi2\n",
    "\n",
    "x=np.array([0,1,2,3,4])\n",
    "observed=np.array([32,178,290,236,64])\n",
    "\n",
    "prob=binom.pmf(x,4,0.5)\n",
    "\n",
    "expected=prob*800\n",
    "\n",
    "ts=np.sum(((observed-expected)**2)/expected)\n",
    "\n",
    "ls=chi2.ppf(0.95,4)\n",
    "p_val=chi2.sf(ts,4)\n",
    "\n",
    "print(\"test statistic: \",round(ts,3))\n",
    "print(\"Chi value at 5% level of significance: \",round(ls,3))\n",
    "print(\"p-value: \",round(p_val,3))\n",
    "\n",
    "if ls<ts:\n",
    "    print(\"X do not follows Binomial Distribution.\")\n",
    "else:\n",
    "    print(\"X follows Binomial Distribution.\")\n",
    "\n",
    "\n",
    "print(\"__________________Using inbuilt function____________________\")\n",
    "t_stat,p_val=chisquare(observed,expected)\n",
    "print(\"test statistic: \",round(t_stat,3))\n",
    "print(\"p-value: \",round(p_val,3))\n"
   ]
  },
  {
   "cell_type": "code",
   "execution_count": null,
   "metadata": {},
   "outputs": [
    {
     "name": "stdout",
     "output_type": "stream",
     "text": [
      "Test Statistic:  1.3584\n",
      "Left Wall and Right Wall :  [0.2002, 4.9949]\n",
      "We do not have sufficient reason to reject Ho at 5% level of significance.\n"
     ]
    },
    {
     "data": {
      "image/png": "[encoded data removed]",
      "text/plain": [
       "<Figure size 640x480 with 1 Axes>"
      ]
     },
     "metadata": {},
     "output_type": "display_data"
    }
   ],
   "source": [
    "# 20. WAP to test significance of two sample variance.\n",
    "\n",
    "#                             Ho:  There ratio of two sample variance is not significantly different.\n",
    "#                             H1:  There ratio of two sample variance is significantly different.\n",
    "#                    At 5% level of significance.\n",
    "\n",
    "from scipy.stats import f\n",
    "\n",
    "def f_test(sample1,sample2):\n",
    "    n1=len(sample1)\n",
    "    n2=len(sample2)\n",
    "    var1=np.var(sample1,ddof=1)\n",
    "    var2=np.var(sample2,ddof=1)\n",
    "    if var1>var2:\n",
    "        ts=var1/var2\n",
    "        left_wall=f.ppf(0.025,n1-1,n2-1)\n",
    "        right_wall=f.ppf(0.975,n1-1,n2-1)\n",
    "    else:\n",
    "        ts=var2/var1\n",
    "        left_wall=f.ppf(0.025,n2-1,n1-1)\n",
    "        right_wall=f.ppf(0.975,n2-1,n1-1)\n",
    "\n",
    "    print(\"Test Statistic: \",round(ts,4))\n",
    "    print(\"Left Wall and Right Wall : \",[round(left_wall,4),round(right_wall,4)])\n",
    "\n",
    "    if left_wall<ts and ts<right_wall:\n",
    "        print(\"We do not have sufficient reason to reject Ho at 5% level of significance.\")\n",
    "    else:\n",
    "        print(\"We have sufficient reason to reject Ho at 5% level of significance.\")\n",
    "\n",
    "    return\n",
    "\n",
    "\n",
    "sample1=[27,32.2,30.4,28,26.5,25.5,29.6,27.2]\n",
    "sample2=[31.4,29.9,33.2,34.4,32,28.7,26.1,30.3]\n",
    "\n",
    "f_test(sample1,sample2)\n",
    "\n",
    "plt.axvline(left_wall,color=\"red\",lw=2,label=\"Left Wall\")\n",
    "plt.axvline(right_wall,color=\"red\",lw=2,label=\"Right Wall\")\n",
    "plt.scatter(ts,0,marker=\"*\",alpha=1,edgecolor=\"black\",s=200,label=\"Test Statistic\")\n",
    "plt.gca().get_yaxis().set_visible(False)\n",
    "plt.legend()\n",
    "plt.show()"
   ]
  },
  {
   "cell_type": "code",
   "execution_count": 12,
   "metadata": {},
   "outputs": [
    {
     "name": "stderr",
     "output_type": "stream",
     "text": [
      "c:\\Users\\vasud\\AppData\\Local\\Programs\\Python\\Python312\\Lib\\site-packages\\scipy\\stats\\_axis_nan_policy.py:531: UserWarning: kurtosistest only valid for n>=20 ... continuing anyway, n=10\n",
      "  res = hypotest_fun_out(*samples, **kwds)\n"
     ]
    },
    {
     "name": "stdout",
     "output_type": "stream",
     "text": [
      "                            OLS Regression Results                            \n",
      "==============================================================================\n",
      "Dep. Variable:                      y   R-squared:                       0.915\n",
      "Model:                            OLS   Adj. R-squared:                  0.904\n",
      "Method:                 Least Squares   F-statistic:                     86.05\n",
      "Date:                Thu, 21 Nov 2024   Prob (F-statistic):           1.48e-05\n",
      "Time:                        11:15:09   Log-Likelihood:                -35.000\n",
      "No. Observations:                  10   AIC:                             74.00\n",
      "Df Residuals:                       8   BIC:                             74.60\n",
      "Df Model:                           1                                         \n",
      "Covariance Type:            nonrobust                                         \n",
      "==============================================================================\n",
      "                 coef    std err          t      P>|t|      [0.025      0.975]\n",
      "------------------------------------------------------------------------------\n",
      "const         -1.2546      5.291     -0.237      0.819     -13.456      10.947\n",
      "x1             2.9400      0.317      9.276      0.000       2.209       3.671\n",
      "==============================================================================\n",
      "Omnibus:                        0.652   Durbin-Watson:                   1.920\n",
      "Prob(Omnibus):                  0.722   Jarque-Bera (JB):                0.076\n",
      "Skew:                          -0.203   Prob(JB):                        0.963\n",
      "Kurtosis:                       2.866   Cond. No.                         31.3\n",
      "==============================================================================\n",
      "\n",
      "Notes:\n",
      "[1] Standard Errors assume that the covariance matrix of the errors is correctly specified.\n"
     ]
    },
    {
     "data": {
      "image/png": "[encoded data removed]",
      "text/plain": [
       "<Figure size 640x480 with 1 Axes>"
      ]
     },
     "metadata": {},
     "output_type": "display_data"
    }
   ],
   "source": [
    "# 21. WAP to implement linear regression in python.\n",
    "\n",
    "import statsmodels.api as sm\n",
    "x=np.array([2,4,7,15,8,10,23,24,18,30])\n",
    "y=np.array([8,12,14,45,20,23,50,80,65,85])\n",
    "x=sm.add_constant(x)\n",
    "\n",
    "model=sm.OLS(y,x)\n",
    "result=model.fit()\n",
    "print(result.summary())\n",
    "\n",
    "x_pred=np.array([3,6,7,2,1,8,21,14,30,24])\n",
    "x_pred_with_constant=sm.add_constant(x_pred)\n",
    "y_pred=result.predict(x_pred_with_constant)\n",
    "\n",
    "plt.scatter(x[:, 1], y, color=\"blue\", label=\"Data Points\")\n",
    "plt.plot(x_pred, y_pred, color=\"red\", label=\"Regression Line\")\n",
    "plt.xlabel(\"X\")\n",
    "plt.ylabel(\"Y\")\n",
    "plt.legend()\n",
    "plt.show()\n"
   ]
  },
  {
   "cell_type": "code",
   "execution_count": null,
   "metadata": {},
   "outputs": [
    {
     "data": {
      "image/png": "[encoded data removed]",
      "text/plain": [
       "<Figure size 600x800 with 1 Axes>"
      ]
     },
     "metadata": {},
     "output_type": "display_data"
    }
   ],
   "source": [
    "# 22. WAP to plot piechart on consumption of water in daily life.\n",
    "\n",
    "activities=[\"Bathing\",\"Drinking\",\"Cooking\",\"Washing\",\"Laundry\",\"Others\"]\n",
    "usage_percentage=[20,10,6,16,30,18]\n",
    "explode=[0.1,0.1,0.1,0.1,0.1,0.1]\n",
    "\n",
    "plt.figure(figsize=(6,8))\n",
    "plt.pie(usage_percentage,labels=activities,explode=explode,autopct=\"%1.2f%%\",shadow=True,wedgeprops={\"edgecolor\":\"black\",\"linewidth\":1.2,\"antialiased\":True})\n",
    "plt.title(\"Consumption of Water in Daily Life\",fontweight='bold')\n",
    "plt.show()"
   ]
  },
  {
   "cell_type": "code",
   "execution_count": null,
   "metadata": {},
   "outputs": [
    {
     "data": {
      "image/png": "[encoded data removed]",
      "text/plain": [
       "<Figure size 640x480 with 1 Axes>"
      ]
     },
     "metadata": {},
     "output_type": "display_data"
    }
   ],
   "source": [
    "# 23. WAP to plot bar chart to display result for 10th, 12th, 1st year, 2nd year, 3rd year CGPA.\n",
    "\n",
    "categories=[\"10th\",\"12th\",\"1st yr\",\"2nd yr\",\"3rd yr\"]\n",
    "cgpa=[8.5,9.2,7.8,6.4,7.5]\n",
    "color=[\"red\",\"blue\",\"yellow\",\"green\",\"pink\"]\n",
    "\n",
    "plt.bar(categories,cgpa,width=0.5,color=color,edgecolor=\"black\",lw=2)\n",
    "plt.xlabel(\"Categories\")\n",
    "plt.ylabel(\"CGPA\")\n",
    "plt.title(\"Result\")\n",
    "plt.show()\n",
    "\n"
   ]
  },
  {
   "cell_type": "code",
   "execution_count": 36,
   "metadata": {},
   "outputs": [
    {
     "data": {
      "text/html": [
       "<div>\n",
       "<style scoped>\n",
       "    .dataframe tbody tr th:only-of-type {\n",
       "        vertical-align: middle;\n",
       "    }\n",
       "\n",
       "    .dataframe tbody tr th {\n",
       "        vertical-align: top;\n",
       "    }\n",
       "\n",
       "    .dataframe thead th {\n",
       "        text-align: right;\n",
       "    }\n",
       "</style>\n",
       "<table border=\"1\" class=\"dataframe\">\n",
       "  <thead>\n",
       "    <tr style=\"text-align: right;\">\n",
       "      <th></th>\n",
       "      <th>Values</th>\n",
       "    </tr>\n",
       "  </thead>\n",
       "  <tbody>\n",
       "    <tr>\n",
       "      <th>count</th>\n",
       "      <td>50.000000</td>\n",
       "    </tr>\n",
       "    <tr>\n",
       "      <th>mean</th>\n",
       "      <td>44.980000</td>\n",
       "    </tr>\n",
       "    <tr>\n",
       "      <th>std</th>\n",
       "      <td>26.608645</td>\n",
       "    </tr>\n",
       "    <tr>\n",
       "      <th>min</th>\n",
       "      <td>3.000000</td>\n",
       "    </tr>\n",
       "    <tr>\n",
       "      <th>Q1</th>\n",
       "      <td>18.750000</td>\n",
       "    </tr>\n",
       "    <tr>\n",
       "      <th>Median</th>\n",
       "      <td>44.000000</td>\n",
       "    </tr>\n",
       "    <tr>\n",
       "      <th>Q3</th>\n",
       "      <td>64.500000</td>\n",
       "    </tr>\n",
       "    <tr>\n",
       "      <th>max</th>\n",
       "      <td>95.000000</td>\n",
       "    </tr>\n",
       "  </tbody>\n",
       "</table>\n",
       "</div>"
      ],
      "text/plain": [
       "           Values\n",
       "count   50.000000\n",
       "mean    44.980000\n",
       "std     26.608645\n",
       "min      3.000000\n",
       "Q1      18.750000\n",
       "Median  44.000000\n",
       "Q3      64.500000\n",
       "max     95.000000"
      ]
     },
     "execution_count": 36,
     "metadata": {},
     "output_type": "execute_result"
    }
   ],
   "source": [
    "# 24. WAP to perform various statistical measures using pandas.\n",
    "\n",
    "np.random.seed(45)\n",
    "x=np.random.randint(0,100,50)\n",
    "\n",
    "df=pd.DataFrame(x)\n",
    "\n",
    "describe=df.describe()\n",
    "describe.rename(columns={0:\"Values\"},index={'25%':\"Q1\",\"50%\":\"Median\",\"75%\":\"Q3\"},inplace=True)\n",
    "describe"
   ]
  },
  {
   "cell_type": "code",
   "execution_count": null,
   "metadata": {},
   "outputs": [
    {
     "name": "stdout",
     "output_type": "stream",
     "text": [
      "Name,Age\n",
      "A,24\n",
      "B,18\n",
      "C,37\n",
      "D,28\n",
      "\n"
     ]
    }
   ],
   "source": [
    "# 25. WAP to perform read and write operations with csv files.\n",
    "\n",
    "def write_tocsv(file_name,data):\n",
    "    with open(f\"{file_name}.csv\",\"w\") as data_file:\n",
    "        for value in data:\n",
    "            data_file.write(value+'\\n')\n",
    "\n",
    "def read_csv(file_name):\n",
    "    with open(f\"{file_name}.csv\",\"r\") as data_file:\n",
    "        value = data_file.read()\n",
    "        print(value)\n",
    "\n",
    "data=[\"Name,Age\",'A,24', 'B,18', 'C,37', 'D,28']\n",
    "\n",
    "write_tocsv(\"myfile\",data)\n",
    "\n",
    "read_csv(\"myfile\")"
   ]
  },
  {
   "cell_type": "code",
   "execution_count": 104,
   "metadata": {},
   "outputs": [
    {
     "name": "stdout",
     "output_type": "stream",
     "text": [
      "sin(90°) equals to 1.0.\n"
     ]
    }
   ],
   "source": [
    "# 26. WAP to compute values of Sin x using taylor series.\n",
    "\n",
    "import math\n",
    "\n",
    "def sin_fun(x,terms=10):\n",
    "    x=math.radians(x)\n",
    "    sinx=0\n",
    "\n",
    "    for i in range(terms):\n",
    "        value=((-1)**i)*(x**((2*i)+1))/math.factorial((2*i)+1)\n",
    "        sinx+=value\n",
    "\n",
    "    return sinx\n",
    "\n",
    "x=90\n",
    "print(f\"sin({x}\\N{Degree sign}) equals to {sin_fun(x)}.\")\n"
   ]
  },
  {
   "cell_type": "code",
   "execution_count": null,
   "metadata": {},
   "outputs": [
    {
     "name": "stdout",
     "output_type": "stream",
     "text": [
      "    5\n",
      "   45\n",
      "  345\n",
      " 2345\n",
      "12345\n"
     ]
    }
   ],
   "source": [
    "# 27. WAP to display the following pattern:\n",
    "#     5                                 00005\n",
    "#    45                                 00045\n",
    "#   345     =========>>>>>>>            00345\n",
    "#  2345                                 02345\n",
    "# 12345                                 12345\n",
    "\n",
    "n=int(input(\"Enter n: \"))\n",
    "\n",
    "for i in range(0,n):\n",
    "    for j in range(0,n):\n",
    "            if i+j<n-1:\n",
    "                print(\" \",end=\"\")\n",
    "            else:\n",
    "                print(j+1,end=\"\")\n",
    "\n",
    "    print()"
   ]
  },
  {
   "cell_type": "code",
   "execution_count": null,
   "metadata": {},
   "outputs": [
    {
     "name": "stdout",
     "output_type": "stream",
     "text": [
      "Its a Palindrome.\n",
      "Its a Palindrome.\n"
     ]
    }
   ],
   "source": [
    "# 28. WAP to find if a number or string is palindrome or not.\n",
    "\n",
    "def palindrome(x):\n",
    "    i=0\n",
    "    j=len(x)-1\n",
    "    stop=int(len(x)/2)+1\n",
    "    for a in range(0,stop):\n",
    "        if i==j and x[i]==x[j]:\n",
    "            print(\"Its a Palindrome.\")\n",
    "            return\n",
    "        elif x[i]==x[j]:\n",
    "            i+=1\n",
    "            j-=1\n",
    "        else :\n",
    "            print(\"It's not a Palindrome.\")\n",
    "            return\n",
    "\n",
    "x1=\"civic\"\n",
    "palindrome(x1)\n",
    "x2=[1,2,3,2,1]\n",
    "palindrome(x2)"
   ]
  },
  {
   "cell_type": "code",
   "execution_count": null,
   "metadata": {},
   "outputs": [
    {
     "name": "stdout",
     "output_type": "stream",
     "text": [
      "Greatest Number:  9\n"
     ]
    }
   ],
   "source": [
    "# 29. WAP to find greatest of number using loop.\n",
    "\n",
    "def greatest(x):\n",
    "    i=0\n",
    "    j=len(x)-1\n",
    "    for a in range(0,len(x)):\n",
    "        if x[i]>x[j]:\n",
    "            max=x[i]\n",
    "            j-=1\n",
    "        else :\n",
    "            max=x[j]\n",
    "            i+=1\n",
    "    print(\"Greatest Number: \",max)\n",
    "    return\n",
    "\n",
    "x=[1,2,9,8,2,4]\n",
    "greatest(x)"
   ]
  },
  {
   "cell_type": "code",
   "execution_count": 51,
   "metadata": {},
   "outputs": [
    {
     "name": "stdout",
     "output_type": "stream",
     "text": [
      "The Fibonacci Series of first 8 elements is: \n",
      "1 2 3 5 8 13 21 34 "
     ]
    }
   ],
   "source": [
    "# 30. WAP to print fibonacci series.\n",
    "\n",
    "def fibonacci(n):\n",
    "    a=1\n",
    "    b=2\n",
    "    if n==0:\n",
    "        print(n)\n",
    "    elif n==1:\n",
    "        return a\n",
    "    elif n==2:\n",
    "        return b\n",
    "    else:\n",
    "        return fibonacci(n-1)+fibonacci(n-2)\n",
    "\n",
    "n=int(input(\"Enter the number of elements: \"))\n",
    "\n",
    "print(f\"The Fibonacci Series of first {n} elements is: \")\n",
    "for i in range(1,n+1):\n",
    "    print(fibonacci(i),end=\" \")\n",
    "\n"
   ]
  },
  {
   "cell_type": "code",
   "execution_count": 86,
   "metadata": {},
   "outputs": [
    {
     "name": "stdout",
     "output_type": "stream",
     "text": [
      "6! equals to 720.\n"
     ]
    }
   ],
   "source": [
    "# 31. WAP to find factorial using recursion.\n",
    "\n",
    "def factorial(n):\n",
    "    if n==0 or n==1:\n",
    "        return 1\n",
    "    else:\n",
    "        return n*factorial(n-1)\n",
    "\n",
    "n=int(input(\"Enter the number: \"))\n",
    "print(f\"{n}! equals to {factorial(n)}.\")"
   ]
  },
  {
   "cell_type": "code",
   "execution_count": null,
   "metadata": {},
   "outputs": [
    {
     "name": "stdout",
     "output_type": "stream",
     "text": [
      "8208 is Armstrong.\n"
     ]
    }
   ],
   "source": [
    "#32. WAP to find if a number is armstrong or not.\n",
    "\n",
    "n=input('Enter the number: ')\n",
    "sum=0\n",
    "\n",
    "for i in n:\n",
    "    ele=int(i)**len(n)\n",
    "    sum+=ele\n",
    "\n",
    "if n==str(sum):\n",
    "    print(f\"{n} is Armstrong.\")\n",
    "else:\n",
    "    print(f\"{n} is not an Armstrong.\")"
   ]
  },
  {
   "cell_type": "code",
   "execution_count": 1,
   "metadata": {},
   "outputs": [
    {
     "name": "stdout",
     "output_type": "stream",
     "text": [
      "You entered the number 67654.\n",
      "Reverse of the number is: 45676.\n"
     ]
    }
   ],
   "source": [
    "# 33. Write a menu driven program to find the reverse of a number and sum of digits.\n",
    "\n",
    "def reverse(n):\n",
    "    return n[::-1]\n",
    "\n",
    "def add(n):\n",
    "    sum=0\n",
    "    for i in n:\n",
    "        sum+=int(i)\n",
    "    return sum\n",
    "\n",
    "n=input(\"Enter number: \")\n",
    "option=input(\"Press 1:Reverse of a Number, 2:Addition of Digits: \")\n",
    "\n",
    "print(f\"You entered the number {n}.\")\n",
    "if option==\"1\":\n",
    "    print(f\"Reverse of the number is: {reverse(n)}.\")\n",
    "elif option==\"2\":\n",
    "    print(f\"Sum of the digits is: {add(n)}.\")\n",
    "else:\n",
    "    print(\"Please select the valid option.\")\n",
    "\n",
    "\n",
    "\n"
   ]
  },
  {
   "cell_type": "code",
   "execution_count": null,
   "metadata": {},
   "outputs": [],
   "source": []
  },
  {
   "cell_type": "code",
   "execution_count": null,
   "metadata": {},
   "outputs": [],
   "source": []
  }
 ],
 "metadata": {
  "kernelspec": {
   "display_name": "Python 3 (ipykernel)",
   "language": "python",
   "name": "python3"
  },
  "language_info": {
   "codemirror_mode": {
    "name": "ipython",
    "version": 3
   },
   "file_extension": ".py",
   "mimetype": "text/x-python",
   "name": "python",
   "nbconvert_exporter": "python",
   "pygments_lexer": "ipython3",
   "version": "3.11.7"
  }
 },
 "nbformat": 4,
 "nbformat_minor": 2
}
